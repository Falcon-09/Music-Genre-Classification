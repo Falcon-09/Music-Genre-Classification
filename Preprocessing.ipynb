{
 "cells": [
  {
   "cell_type": "code",
   "execution_count": 1,
   "metadata": {},
   "outputs": [],
   "source": [
    "import librosa\r\n",
    "import pandas as pd\r\n",
    "import numpy as np\r\n",
    "import matplotlib.pyplot as plt\r\n",
    "%matplotlib inline\r\n",
    "import os\r\n",
    "import csv\r\n",
    "# Preprocessing\r\n",
    "from sklearn.model_selection import train_test_split\r\n",
    "from sklearn.preprocessing import LabelEncoder, StandardScaler\r\n",
    "from sklearn.metrics import f1_score, accuracy_score\r\n",
    "import keras"
   ]
  },
  {
   "cell_type": "code",
   "execution_count": 3,
   "metadata": {},
   "outputs": [],
   "source": [
    "header = 'class_name chroma_stft rmse spectral_centroid spectral_bandwidth rolloff zero_crossing_rate'\r\n",
    "for i in range(1, 21):\r\n",
    "    header += f' mfcc{i}'\r\n",
    "header += ' label'\r\n",
    "header = header.split()"
   ]
  },
  {
   "cell_type": "code",
   "execution_count": 2,
   "metadata": {},
   "outputs": [],
   "source": [
    "df = pd.read_csv('data.csv')"
   ]
  },
  {
   "cell_type": "code",
   "execution_count": 3,
   "metadata": {},
   "outputs": [],
   "source": [
    "df = df.drop(['beats'], axis=1)"
   ]
  },
  {
   "cell_type": "code",
   "execution_count": 4,
   "metadata": {},
   "outputs": [
    {
     "data": {
      "text/html": "<div>\n<style scoped>\n    .dataframe tbody tr th:only-of-type {\n        vertical-align: middle;\n    }\n\n    .dataframe tbody tr th {\n        vertical-align: top;\n    }\n\n    .dataframe thead th {\n        text-align: right;\n    }\n</style>\n<table border=\"1\" class=\"dataframe\">\n  <thead>\n    <tr style=\"text-align: right;\">\n      <th></th>\n      <th>class_name</th>\n      <th>tempo</th>\n      <th>chroma_stft</th>\n      <th>rmse</th>\n      <th>spectral_centroid</th>\n      <th>spectral_bandwidth</th>\n      <th>rolloff</th>\n      <th>zero_crossing_rate</th>\n      <th>mfcc1</th>\n      <th>mfcc2</th>\n      <th>...</th>\n      <th>mfcc12</th>\n      <th>mfcc13</th>\n      <th>mfcc14</th>\n      <th>mfcc15</th>\n      <th>mfcc16</th>\n      <th>mfcc17</th>\n      <th>mfcc18</th>\n      <th>mfcc19</th>\n      <th>mfcc20</th>\n      <th>label</th>\n    </tr>\n  </thead>\n  <tbody>\n    <tr>\n      <th>0</th>\n      <td>blues</td>\n      <td>103.359375</td>\n      <td>0.380260</td>\n      <td>0.248262</td>\n      <td>2116.942959</td>\n      <td>1956.611056</td>\n      <td>4196.107960</td>\n      <td>0.127272</td>\n      <td>-26.929785</td>\n      <td>107.334008</td>\n      <td>...</td>\n      <td>14.336612</td>\n      <td>-13.821769</td>\n      <td>7.562789</td>\n      <td>-6.181372</td>\n      <td>0.330165</td>\n      <td>-6.829571</td>\n      <td>0.965922</td>\n      <td>-7.570825</td>\n      <td>2.918987</td>\n      <td>blues</td>\n    </tr>\n    <tr>\n      <th>1</th>\n      <td>blues</td>\n      <td>95.703125</td>\n      <td>0.306451</td>\n      <td>0.113475</td>\n      <td>1156.070496</td>\n      <td>1497.668176</td>\n      <td>2170.053545</td>\n      <td>0.058613</td>\n      <td>-233.860772</td>\n      <td>136.170239</td>\n      <td>...</td>\n      <td>-2.250578</td>\n      <td>3.959198</td>\n      <td>5.322555</td>\n      <td>0.812028</td>\n      <td>-1.107202</td>\n      <td>-4.556555</td>\n      <td>-2.436490</td>\n      <td>3.316913</td>\n      <td>-0.608485</td>\n      <td>blues</td>\n    </tr>\n    <tr>\n      <th>2</th>\n      <td>blues</td>\n      <td>151.999081</td>\n      <td>0.253487</td>\n      <td>0.151571</td>\n      <td>1331.073970</td>\n      <td>1973.643437</td>\n      <td>2900.174130</td>\n      <td>0.042967</td>\n      <td>-221.802549</td>\n      <td>110.843070</td>\n      <td>...</td>\n      <td>-13.037723</td>\n      <td>-12.652228</td>\n      <td>-1.821905</td>\n      <td>-7.260097</td>\n      <td>-6.660252</td>\n      <td>-14.682694</td>\n      <td>-11.719264</td>\n      <td>-11.025216</td>\n      <td>-13.387260</td>\n      <td>blues</td>\n    </tr>\n    <tr>\n      <th>3</th>\n      <td>blues</td>\n      <td>184.570312</td>\n      <td>0.269320</td>\n      <td>0.119072</td>\n      <td>1361.045467</td>\n      <td>1567.804596</td>\n      <td>2739.625101</td>\n      <td>0.069124</td>\n      <td>-207.208080</td>\n      <td>132.799175</td>\n      <td>...</td>\n      <td>-0.613248</td>\n      <td>0.384877</td>\n      <td>2.605128</td>\n      <td>-5.188924</td>\n      <td>-9.527455</td>\n      <td>-9.244394</td>\n      <td>-2.848274</td>\n      <td>-1.418707</td>\n      <td>-5.932607</td>\n      <td>blues</td>\n    </tr>\n    <tr>\n      <th>4</th>\n      <td>blues</td>\n      <td>161.499023</td>\n      <td>0.391059</td>\n      <td>0.137728</td>\n      <td>1811.076084</td>\n      <td>2052.332563</td>\n      <td>3927.809582</td>\n      <td>0.075480</td>\n      <td>-145.434568</td>\n      <td>102.829023</td>\n      <td>...</td>\n      <td>7.457218</td>\n      <td>-10.470444</td>\n      <td>-2.360483</td>\n      <td>-6.783623</td>\n      <td>2.671134</td>\n      <td>-4.760879</td>\n      <td>-0.949005</td>\n      <td>0.024832</td>\n      <td>-2.005315</td>\n      <td>blues</td>\n    </tr>\n  </tbody>\n</table>\n<p>5 rows × 29 columns</p>\n</div>",
      "text/plain": "  class_name       tempo  chroma_stft      rmse  spectral_centroid  \\\n0      blues  103.359375     0.380260  0.248262        2116.942959   \n1      blues   95.703125     0.306451  0.113475        1156.070496   \n2      blues  151.999081     0.253487  0.151571        1331.073970   \n3      blues  184.570312     0.269320  0.119072        1361.045467   \n4      blues  161.499023     0.391059  0.137728        1811.076084   \n\n   spectral_bandwidth      rolloff  zero_crossing_rate       mfcc1  \\\n0         1956.611056  4196.107960            0.127272  -26.929785   \n1         1497.668176  2170.053545            0.058613 -233.860772   \n2         1973.643437  2900.174130            0.042967 -221.802549   \n3         1567.804596  2739.625101            0.069124 -207.208080   \n4         2052.332563  3927.809582            0.075480 -145.434568   \n\n        mfcc2  ...     mfcc12     mfcc13    mfcc14    mfcc15    mfcc16  \\\n0  107.334008  ...  14.336612 -13.821769  7.562789 -6.181372  0.330165   \n1  136.170239  ...  -2.250578   3.959198  5.322555  0.812028 -1.107202   \n2  110.843070  ... -13.037723 -12.652228 -1.821905 -7.260097 -6.660252   \n3  132.799175  ...  -0.613248   0.384877  2.605128 -5.188924 -9.527455   \n4  102.829023  ...   7.457218 -10.470444 -2.360483 -6.783623  2.671134   \n\n      mfcc17     mfcc18     mfcc19     mfcc20  label  \n0  -6.829571   0.965922  -7.570825   2.918987  blues  \n1  -4.556555  -2.436490   3.316913  -0.608485  blues  \n2 -14.682694 -11.719264 -11.025216 -13.387260  blues  \n3  -9.244394  -2.848274  -1.418707  -5.932607  blues  \n4  -4.760879  -0.949005   0.024832  -2.005315  blues  \n\n[5 rows x 29 columns]"
     },
     "execution_count": 4,
     "metadata": {},
     "output_type": "execute_result"
    }
   ],
   "source": [
    "df.head()"
   ]
  },
  {
   "cell_type": "code",
   "execution_count": 5,
   "metadata": {},
   "outputs": [
    {
     "data": {
      "text/plain": "array(['blues', 'classical', 'country', 'disco', 'hiphop', 'jazz',\n       'metal', 'pop', 'reggae', 'rock'], dtype=object)"
     },
     "execution_count": 5,
     "metadata": {},
     "output_type": "execute_result"
    }
   ],
   "source": [
    "df['class_name'].unique()"
   ]
  },
  {
   "cell_type": "code",
   "execution_count": 6,
   "metadata": {},
   "outputs": [],
   "source": [
    "df['class_name'] = df['class_name'].astype('category')\r\n",
    "df['class_label'] = df['class_name'].cat.codes"
   ]
  },
  {
   "cell_type": "code",
   "execution_count": 7,
   "metadata": {},
   "outputs": [
    {
     "data": {
      "text/plain": "{0: 'blues',\n 1: 'classical',\n 2: 'country',\n 3: 'disco',\n 4: 'hiphop',\n 5: 'jazz',\n 6: 'metal',\n 7: 'pop',\n 8: 'reggae',\n 9: 'rock'}"
     },
     "execution_count": 7,
     "metadata": {},
     "output_type": "execute_result"
    }
   ],
   "source": [
    "lookup_genre_name = dict(zip(df.class_label.unique(), df.class_name.unique()))   \r\n",
    "lookup_genre_name"
   ]
  },
  {
   "cell_type": "code",
   "execution_count": 8,
   "metadata": {},
   "outputs": [
    {
     "name": "stdout",
     "output_type": "stream",
     "text": [
      "0      0\n",
      "1      0\n",
      "2      0\n",
      "3      0\n",
      "4      0\n",
      "      ..\n",
      "995    9\n",
      "996    9\n",
      "997    9\n",
      "998    9\n",
      "999    9\n",
      "Name: class_label, Length: 1000, dtype: int8\n"
     ]
    }
   ],
   "source": [
    "df['class_name'].unique()\r\n",
    "print(df['class_label'])"
   ]
  },
  {
   "cell_type": "code",
   "execution_count": 9,
   "metadata": {},
   "outputs": [
    {
     "data": {
      "text/html": "<div>\n<style scoped>\n    .dataframe tbody tr th:only-of-type {\n        vertical-align: middle;\n    }\n\n    .dataframe tbody tr th {\n        vertical-align: top;\n    }\n\n    .dataframe thead th {\n        text-align: right;\n    }\n</style>\n<table border=\"1\" class=\"dataframe\">\n  <thead>\n    <tr style=\"text-align: right;\">\n      <th></th>\n      <th>tempo</th>\n      <th>chroma_stft</th>\n      <th>rmse</th>\n      <th>spectral_centroid</th>\n      <th>spectral_bandwidth</th>\n      <th>rolloff</th>\n      <th>zero_crossing_rate</th>\n      <th>mfcc1</th>\n      <th>mfcc2</th>\n      <th>mfcc3</th>\n      <th>...</th>\n      <th>mfcc11</th>\n      <th>mfcc12</th>\n      <th>mfcc13</th>\n      <th>mfcc14</th>\n      <th>mfcc15</th>\n      <th>mfcc16</th>\n      <th>mfcc17</th>\n      <th>mfcc18</th>\n      <th>mfcc19</th>\n      <th>mfcc20</th>\n    </tr>\n  </thead>\n  <tbody>\n    <tr>\n      <th>0</th>\n      <td>103.359375</td>\n      <td>0.380260</td>\n      <td>0.248262</td>\n      <td>2116.942959</td>\n      <td>1956.611056</td>\n      <td>4196.107960</td>\n      <td>0.127272</td>\n      <td>-26.929785</td>\n      <td>107.334008</td>\n      <td>-46.809993</td>\n      <td>...</td>\n      <td>-15.234050</td>\n      <td>14.336612</td>\n      <td>-13.821769</td>\n      <td>7.562789</td>\n      <td>-6.181372</td>\n      <td>0.330165</td>\n      <td>-6.829571</td>\n      <td>0.965922</td>\n      <td>-7.570825</td>\n      <td>2.918987</td>\n    </tr>\n    <tr>\n      <th>1</th>\n      <td>95.703125</td>\n      <td>0.306451</td>\n      <td>0.113475</td>\n      <td>1156.070496</td>\n      <td>1497.668176</td>\n      <td>2170.053545</td>\n      <td>0.058613</td>\n      <td>-233.860772</td>\n      <td>136.170239</td>\n      <td>3.289490</td>\n      <td>...</td>\n      <td>5.145258</td>\n      <td>-2.250578</td>\n      <td>3.959198</td>\n      <td>5.322555</td>\n      <td>0.812028</td>\n      <td>-1.107202</td>\n      <td>-4.556555</td>\n      <td>-2.436490</td>\n      <td>3.316913</td>\n      <td>-0.608485</td>\n    </tr>\n    <tr>\n      <th>2</th>\n      <td>151.999081</td>\n      <td>0.253487</td>\n      <td>0.151571</td>\n      <td>1331.073970</td>\n      <td>1973.643437</td>\n      <td>2900.174130</td>\n      <td>0.042967</td>\n      <td>-221.802549</td>\n      <td>110.843070</td>\n      <td>18.620984</td>\n      <td>...</td>\n      <td>-26.406674</td>\n      <td>-13.037723</td>\n      <td>-12.652228</td>\n      <td>-1.821905</td>\n      <td>-7.260097</td>\n      <td>-6.660252</td>\n      <td>-14.682694</td>\n      <td>-11.719264</td>\n      <td>-11.025216</td>\n      <td>-13.387260</td>\n    </tr>\n    <tr>\n      <th>3</th>\n      <td>184.570312</td>\n      <td>0.269320</td>\n      <td>0.119072</td>\n      <td>1361.045467</td>\n      <td>1567.804596</td>\n      <td>2739.625101</td>\n      <td>0.069124</td>\n      <td>-207.208080</td>\n      <td>132.799175</td>\n      <td>-15.438986</td>\n      <td>...</td>\n      <td>-2.452068</td>\n      <td>-0.613248</td>\n      <td>0.384877</td>\n      <td>2.605128</td>\n      <td>-5.188924</td>\n      <td>-9.527455</td>\n      <td>-9.244394</td>\n      <td>-2.848274</td>\n      <td>-1.418707</td>\n      <td>-5.932607</td>\n    </tr>\n    <tr>\n      <th>4</th>\n      <td>161.499023</td>\n      <td>0.391059</td>\n      <td>0.137728</td>\n      <td>1811.076084</td>\n      <td>2052.332563</td>\n      <td>3927.809582</td>\n      <td>0.075480</td>\n      <td>-145.434568</td>\n      <td>102.829023</td>\n      <td>-12.517677</td>\n      <td>...</td>\n      <td>-6.934599</td>\n      <td>7.457218</td>\n      <td>-10.470444</td>\n      <td>-2.360483</td>\n      <td>-6.783623</td>\n      <td>2.671134</td>\n      <td>-4.760879</td>\n      <td>-0.949005</td>\n      <td>0.024832</td>\n      <td>-2.005315</td>\n    </tr>\n    <tr>\n      <th>...</th>\n      <td>...</td>\n      <td>...</td>\n      <td>...</td>\n      <td>...</td>\n      <td>...</td>\n      <td>...</td>\n      <td>...</td>\n      <td>...</td>\n      <td>...</td>\n      <td>...</td>\n      <td>...</td>\n      <td>...</td>\n      <td>...</td>\n      <td>...</td>\n      <td>...</td>\n      <td>...</td>\n      <td>...</td>\n      <td>...</td>\n      <td>...</td>\n      <td>...</td>\n      <td>...</td>\n    </tr>\n    <tr>\n      <th>995</th>\n      <td>123.046875</td>\n      <td>0.418812</td>\n      <td>0.166056</td>\n      <td>2312.030070</td>\n      <td>2060.825761</td>\n      <td>4528.197619</td>\n      <td>0.140588</td>\n      <td>-41.402023</td>\n      <td>105.403012</td>\n      <td>-43.945538</td>\n      <td>...</td>\n      <td>-15.174259</td>\n      <td>11.303100</td>\n      <td>-14.155566</td>\n      <td>2.824157</td>\n      <td>-9.477822</td>\n      <td>3.331261</td>\n      <td>-8.200088</td>\n      <td>3.693091</td>\n      <td>-3.673562</td>\n      <td>-0.163201</td>\n    </tr>\n    <tr>\n      <th>996</th>\n      <td>117.453835</td>\n      <td>0.335774</td>\n      <td>0.093676</td>\n      <td>2553.856706</td>\n      <td>2219.090892</td>\n      <td>5123.752351</td>\n      <td>0.136173</td>\n      <td>-121.410791</td>\n      <td>89.522283</td>\n      <td>-33.497073</td>\n      <td>...</td>\n      <td>-16.957086</td>\n      <td>9.149520</td>\n      <td>-10.112054</td>\n      <td>4.211237</td>\n      <td>-9.349345</td>\n      <td>1.609701</td>\n      <td>-10.553566</td>\n      <td>1.066489</td>\n      <td>-1.654875</td>\n      <td>7.544224</td>\n    </tr>\n    <tr>\n      <th>997</th>\n      <td>103.359375</td>\n      <td>0.372834</td>\n      <td>0.208743</td>\n      <td>1345.850763</td>\n      <td>1841.748033</td>\n      <td>2939.265560</td>\n      <td>0.041099</td>\n      <td>-127.946876</td>\n      <td>134.443879</td>\n      <td>1.027332</td>\n      <td>...</td>\n      <td>-6.700004</td>\n      <td>11.043714</td>\n      <td>-8.385375</td>\n      <td>2.111019</td>\n      <td>-6.338260</td>\n      <td>0.997383</td>\n      <td>-5.325869</td>\n      <td>-0.842192</td>\n      <td>-4.665996</td>\n      <td>-4.787677</td>\n    </tr>\n    <tr>\n      <th>998</th>\n      <td>112.347147</td>\n      <td>0.344472</td>\n      <td>0.180163</td>\n      <td>1675.475369</td>\n      <td>1653.422860</td>\n      <td>3253.563659</td>\n      <td>0.087294</td>\n      <td>-98.356322</td>\n      <td>136.611573</td>\n      <td>-46.700574</td>\n      <td>...</td>\n      <td>-12.647550</td>\n      <td>2.945863</td>\n      <td>-12.509212</td>\n      <td>0.091337</td>\n      <td>-0.774780</td>\n      <td>-5.700102</td>\n      <td>-8.630916</td>\n      <td>-1.903803</td>\n      <td>-2.196753</td>\n      <td>-3.395148</td>\n    </tr>\n    <tr>\n      <th>999</th>\n      <td>75.999540</td>\n      <td>0.360098</td>\n      <td>0.042995</td>\n      <td>2209.357588</td>\n      <td>2175.214294</td>\n      <td>4575.588999</td>\n      <td>0.107147</td>\n      <td>-245.160921</td>\n      <td>95.089813</td>\n      <td>-21.228014</td>\n      <td>...</td>\n      <td>-9.282356</td>\n      <td>0.813777</td>\n      <td>-13.018359</td>\n      <td>0.053168</td>\n      <td>-8.232851</td>\n      <td>1.059255</td>\n      <td>-8.031864</td>\n      <td>-0.397097</td>\n      <td>-4.349921</td>\n      <td>-4.220998</td>\n    </tr>\n  </tbody>\n</table>\n<p>1000 rows × 27 columns</p>\n</div>",
      "text/plain": "          tempo  chroma_stft      rmse  spectral_centroid  spectral_bandwidth  \\\n0    103.359375     0.380260  0.248262        2116.942959         1956.611056   \n1     95.703125     0.306451  0.113475        1156.070496         1497.668176   \n2    151.999081     0.253487  0.151571        1331.073970         1973.643437   \n3    184.570312     0.269320  0.119072        1361.045467         1567.804596   \n4    161.499023     0.391059  0.137728        1811.076084         2052.332563   \n..          ...          ...       ...                ...                 ...   \n995  123.046875     0.418812  0.166056        2312.030070         2060.825761   \n996  117.453835     0.335774  0.093676        2553.856706         2219.090892   \n997  103.359375     0.372834  0.208743        1345.850763         1841.748033   \n998  112.347147     0.344472  0.180163        1675.475369         1653.422860   \n999   75.999540     0.360098  0.042995        2209.357588         2175.214294   \n\n         rolloff  zero_crossing_rate       mfcc1       mfcc2      mfcc3  ...  \\\n0    4196.107960            0.127272  -26.929785  107.334008 -46.809993  ...   \n1    2170.053545            0.058613 -233.860772  136.170239   3.289490  ...   \n2    2900.174130            0.042967 -221.802549  110.843070  18.620984  ...   \n3    2739.625101            0.069124 -207.208080  132.799175 -15.438986  ...   \n4    3927.809582            0.075480 -145.434568  102.829023 -12.517677  ...   \n..           ...                 ...         ...         ...        ...  ...   \n995  4528.197619            0.140588  -41.402023  105.403012 -43.945538  ...   \n996  5123.752351            0.136173 -121.410791   89.522283 -33.497073  ...   \n997  2939.265560            0.041099 -127.946876  134.443879   1.027332  ...   \n998  3253.563659            0.087294  -98.356322  136.611573 -46.700574  ...   \n999  4575.588999            0.107147 -245.160921   95.089813 -21.228014  ...   \n\n        mfcc11     mfcc12     mfcc13    mfcc14    mfcc15    mfcc16     mfcc17  \\\n0   -15.234050  14.336612 -13.821769  7.562789 -6.181372  0.330165  -6.829571   \n1     5.145258  -2.250578   3.959198  5.322555  0.812028 -1.107202  -4.556555   \n2   -26.406674 -13.037723 -12.652228 -1.821905 -7.260097 -6.660252 -14.682694   \n3    -2.452068  -0.613248   0.384877  2.605128 -5.188924 -9.527455  -9.244394   \n4    -6.934599   7.457218 -10.470444 -2.360483 -6.783623  2.671134  -4.760879   \n..         ...        ...        ...       ...       ...       ...        ...   \n995 -15.174259  11.303100 -14.155566  2.824157 -9.477822  3.331261  -8.200088   \n996 -16.957086   9.149520 -10.112054  4.211237 -9.349345  1.609701 -10.553566   \n997  -6.700004  11.043714  -8.385375  2.111019 -6.338260  0.997383  -5.325869   \n998 -12.647550   2.945863 -12.509212  0.091337 -0.774780 -5.700102  -8.630916   \n999  -9.282356   0.813777 -13.018359  0.053168 -8.232851  1.059255  -8.031864   \n\n        mfcc18     mfcc19     mfcc20  \n0     0.965922  -7.570825   2.918987  \n1    -2.436490   3.316913  -0.608485  \n2   -11.719264 -11.025216 -13.387260  \n3    -2.848274  -1.418707  -5.932607  \n4    -0.949005   0.024832  -2.005315  \n..         ...        ...        ...  \n995   3.693091  -3.673562  -0.163201  \n996   1.066489  -1.654875   7.544224  \n997  -0.842192  -4.665996  -4.787677  \n998  -1.903803  -2.196753  -3.395148  \n999  -0.397097  -4.349921  -4.220998  \n\n[1000 rows x 27 columns]"
     },
     "execution_count": 9,
     "metadata": {},
     "output_type": "execute_result"
    }
   ],
   "source": [
    "cols = list(df.columns)\r\n",
    "cols.remove('label')\r\n",
    "cols.remove('class_label')\r\n",
    "cols.remove('class_name')\r\n",
    "df[cols]"
   ]
  },
  {
   "cell_type": "code",
   "execution_count": 10,
   "metadata": {},
   "outputs": [],
   "source": [
    "from sklearn.model_selection import train_test_split\r\n",
    "X = df.iloc[:,1:28]\r\n",
    "y = df['class_label']\r\n",
    "X_train, X_test, y_train, y_test = train_test_split(X, y, random_state=3)"
   ]
  },
  {
   "cell_type": "code",
   "execution_count": 11,
   "metadata": {},
   "outputs": [],
   "source": [
    "from sklearn.preprocessing import MinMaxScaler\r\n",
    "scaler = MinMaxScaler()\r\n",
    "X_train_scaled = scaler.fit_transform(X_train)\r\n",
    "X_test_scaled = scaler.transform(X_test)"
   ]
  },
  {
   "cell_type": "code",
   "execution_count": 12,
   "metadata": {},
   "outputs": [
    {
     "data": {
      "text/plain": "0.66"
     },
     "execution_count": 12,
     "metadata": {},
     "output_type": "execute_result"
    }
   ],
   "source": [
    "from sklearn.neighbors import KNeighborsClassifier\r\n",
    "knn = KNeighborsClassifier(n_neighbors = 5)\r\n",
    "knn.fit(X_train_scaled, y_train)\r\n",
    "knn.score(X_test_scaled, y_test)"
   ]
  },
  {
   "cell_type": "code",
   "execution_count": 13,
   "metadata": {},
   "outputs": [
    {
     "data": {
      "text/plain": "0.764"
     },
     "execution_count": 13,
     "metadata": {},
     "output_type": "execute_result"
    }
   ],
   "source": [
    "from sklearn.svm import SVC\r\n",
    "svm = SVC(kernel = 'rbf', C=10,gamma=1,random_state=20).fit(X_train_scaled, y_train)\r\n",
    "svm.score(X_test_scaled, y_test)"
   ]
  },
  {
   "cell_type": "code",
   "execution_count": 14,
   "metadata": {},
   "outputs": [
    {
     "data": {
      "text/plain": "0.696"
     },
     "execution_count": 14,
     "metadata": {},
     "output_type": "execute_result"
    }
   ],
   "source": [
    "from sklearn.ensemble import RandomForestClassifier\r\n",
    "rf=RandomForestClassifier(n_estimators=500,criterion='entropy',random_state=0)\r\n",
    "rf.fit(X_train_scaled,y_train)\r\n",
    "rf.score(X_test_scaled,y_test)"
   ]
  },
  {
   "cell_type": "code",
   "execution_count": 15,
   "metadata": {},
   "outputs": [
    {
     "data": {
      "text/plain": "0.5"
     },
     "execution_count": 15,
     "metadata": {},
     "output_type": "execute_result"
    }
   ],
   "source": [
    "from sklearn.tree import DecisionTreeClassifier\r\n",
    "dtc=DecisionTreeClassifier(criterion='entropy',random_state=0)\r\n",
    "dtc.fit(X_train_scaled,y_train)\r\n",
    "dtc.score(X_test_scaled,y_test)"
   ]
  },
  {
   "cell_type": "code",
   "execution_count": 16,
   "metadata": {},
   "outputs": [
    {
     "name": "stderr",
     "output_type": "stream",
     "text": [
      "C:\\Users\\nipun\\anaconda3\\lib\\site-packages\\xgboost\\sklearn.py:888: UserWarning: The use of label encoder in XGBClassifier is deprecated and will be removed in a future release. To remove this warning, do the following: 1) Pass option use_label_encoder=False when constructing XGBClassifier object; and 2) Encode your labels (y) as integers starting with 0, i.e. 0, 1, 2, ..., [num_class - 1].\n",
      "  warnings.warn(label_encoder_deprecation_msg, UserWarning)\n"
     ]
    },
    {
     "name": "stdout",
     "output_type": "stream",
     "text": [
      "[12:59:32] WARNING: C:/Users/Administrator/workspace/xgboost-win64_release_1.3.0/src/learner.cc:541: \n",
      "Parameters: { max_leaf_nodes, silent } might not be used.\n",
      "\n",
      "  This may not be accurate due to some parameters are only used in language bindings but\n",
      "  passed down to XGBoost core.  Or some parameters are not used but slip through this\n",
      "  verification. Please open an issue if you find above cases.\n",
      "\n",
      "\n",
      "[12:59:32] WARNING: C:/Users/Administrator/workspace/xgboost-win64_release_1.3.0/src/learner.cc:1061: Starting in XGBoost 1.3.0, the default evaluation metric used with the objective 'multi:softprob' was changed from 'merror' to 'mlogloss'. Explicitly set eval_metric if you'd like to restore the old behavior.\n"
     ]
    },
    {
     "data": {
      "text/plain": "0.676"
     },
     "execution_count": 16,
     "metadata": {},
     "output_type": "execute_result"
    }
   ],
   "source": [
    "from xgboost import XGBClassifier\r\n",
    "xf= XGBClassifier(silent=1,eta=0.1,max_depth=7,max_leaf_nodes=10)\r\n",
    "xf.fit(X_train_scaled,y_train)\r\n",
    "xf.score(X_test_scaled,y_test)"
   ]
  },
  {
   "cell_type": "code",
   "execution_count": 41,
   "metadata": {},
   "outputs": [],
   "source": [
    "from Metadata import getmetadata\r\n",
    "a = getmetadata(\"4.wav\")"
   ]
  },
  {
   "cell_type": "code",
   "execution_count": 26,
   "metadata": {},
   "outputs": [],
   "source": [
    "import pickle\r\n",
    "pick={\r\n",
    "    'scale': scaler,\r\n",
    "    'svmo': svm,\r\n",
    "    'lgn': lookup_genre_name\r\n",
    "}\r\n",
    "pickle.dump(pick, open('models' + '.pickle','wb'))"
   ]
  }
 ],
 "metadata": {
  "kernelspec": {
   "display_name": "Python 3",
   "language": "python",
   "name": "python3"
  },
  "language_info": {
   "codemirror_mode": {
    "name": "ipython",
    "version": 3
   },
   "file_extension": ".py",
   "mimetype": "text/x-python",
   "name": "python",
   "nbconvert_exporter": "python",
   "pygments_lexer": "ipython3",
   "version": "3.8.5-final"
  },
  "orig_nbformat": 2
 },
 "nbformat": 4,
 "nbformat_minor": 2
}